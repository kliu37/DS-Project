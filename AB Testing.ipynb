{
 "cells": [
  {
   "cell_type": "markdown",
   "metadata": {},
   "source": [
    "# Problem\n",
    "A worldwide e-commerce site has Spanish translated versions. A data scientist noticed that Spain-based user has higher conversion rate than other Spanish-speaking user. Spain and LatAm (Latin America) suggest that it could be Spainish tranlation. All Spainish-speaking countries had the same translation of the website which is written by Spainard. Therefore, they agree to try the test that all the Spainish-speaking countries has its own translation written by local. Which means Mexico user will see the translation written by Mexican, Colombia user will see the translation written by Colombian and etc.\n",
    "After we run the test, we found the result is suprising that the test is negative.\n",
    "\n",
    "## Hypothesis:\n",
    "Having Spainish-speaking countries translation localization will increase the conversion rate.\n",
    "\n",
    "## Metric:\n",
    "Use conversion rate as the Metric to test our hypothesis\n",
    "\n",
    "## Experiment\n",
    "Randomly divide user from different contries equally into two group, one for control which is user accessed the Spainard written website, one for test which is user accessed tranlation localized website. We want to see whether test group has higher conversion rate than control group or not.\n",
    "\n",
    "## Q:\n",
    "You are asked to:\n",
    "\n",
    "Confirm that test is actually negative. I.e., the old version of the site with just one translation across Spain and LatAm performs better\n",
    "\n",
    "Explain why that might be happening. Are the localized translations really worse?\n",
    "\n",
    "If you identified what was wrong, design an algorithm that would return FALSE if the same problem is happening in the future and TRUE if everything is good and results can be trusted."
   ]
  },
  {
   "cell_type": "code",
   "execution_count": 1,
   "metadata": {},
   "outputs": [],
   "source": [
    "import numpy as np\n",
    "import pandas as pd\n",
    "import seaborn as sns\n",
    "import matplotlib.pyplot as plt\n",
    "from scipy.stats import ttest_ind\n",
    "\n",
    "%matplotlib inline"
   ]
  },
  {
   "cell_type": "markdown",
   "metadata": {},
   "source": [
    "# Load Dataset"
   ]
  },
  {
   "cell_type": "code",
   "execution_count": 2,
   "metadata": {
    "scrolled": true
   },
   "outputs": [
    {
     "data": {
      "text/html": [
       "<div>\n",
       "<style scoped>\n",
       "    .dataframe tbody tr th:only-of-type {\n",
       "        vertical-align: middle;\n",
       "    }\n",
       "\n",
       "    .dataframe tbody tr th {\n",
       "        vertical-align: top;\n",
       "    }\n",
       "\n",
       "    .dataframe thead th {\n",
       "        text-align: right;\n",
       "    }\n",
       "</style>\n",
       "<table border=\"1\" class=\"dataframe\">\n",
       "  <thead>\n",
       "    <tr style=\"text-align: right;\">\n",
       "      <th></th>\n",
       "      <th>user_id</th>\n",
       "      <th>date</th>\n",
       "      <th>source</th>\n",
       "      <th>device</th>\n",
       "      <th>browser_language</th>\n",
       "      <th>ads_channel</th>\n",
       "      <th>browser</th>\n",
       "      <th>conversion</th>\n",
       "      <th>test</th>\n",
       "    </tr>\n",
       "  </thead>\n",
       "  <tbody>\n",
       "    <tr>\n",
       "      <td>0</td>\n",
       "      <td>315281</td>\n",
       "      <td>12/3/2015</td>\n",
       "      <td>Direct</td>\n",
       "      <td>Web</td>\n",
       "      <td>ES</td>\n",
       "      <td>NaN</td>\n",
       "      <td>IE</td>\n",
       "      <td>1</td>\n",
       "      <td>0</td>\n",
       "    </tr>\n",
       "    <tr>\n",
       "      <td>1</td>\n",
       "      <td>497851</td>\n",
       "      <td>12/4/2015</td>\n",
       "      <td>Ads</td>\n",
       "      <td>Web</td>\n",
       "      <td>ES</td>\n",
       "      <td>Google</td>\n",
       "      <td>IE</td>\n",
       "      <td>0</td>\n",
       "      <td>1</td>\n",
       "    </tr>\n",
       "    <tr>\n",
       "      <td>2</td>\n",
       "      <td>848402</td>\n",
       "      <td>12/4/2015</td>\n",
       "      <td>Ads</td>\n",
       "      <td>Web</td>\n",
       "      <td>ES</td>\n",
       "      <td>Facebook</td>\n",
       "      <td>Chrome</td>\n",
       "      <td>0</td>\n",
       "      <td>0</td>\n",
       "    </tr>\n",
       "    <tr>\n",
       "      <td>3</td>\n",
       "      <td>290051</td>\n",
       "      <td>12/3/2015</td>\n",
       "      <td>Ads</td>\n",
       "      <td>Mobile</td>\n",
       "      <td>Other</td>\n",
       "      <td>Facebook</td>\n",
       "      <td>Android_App</td>\n",
       "      <td>0</td>\n",
       "      <td>1</td>\n",
       "    </tr>\n",
       "    <tr>\n",
       "      <td>4</td>\n",
       "      <td>548435</td>\n",
       "      <td>11/30/2015</td>\n",
       "      <td>Ads</td>\n",
       "      <td>Web</td>\n",
       "      <td>ES</td>\n",
       "      <td>Google</td>\n",
       "      <td>FireFox</td>\n",
       "      <td>0</td>\n",
       "      <td>1</td>\n",
       "    </tr>\n",
       "  </tbody>\n",
       "</table>\n",
       "</div>"
      ],
      "text/plain": [
       "   user_id        date  source  device browser_language ads_channel  \\\n",
       "0   315281   12/3/2015  Direct     Web               ES         NaN   \n",
       "1   497851   12/4/2015     Ads     Web               ES      Google   \n",
       "2   848402   12/4/2015     Ads     Web               ES    Facebook   \n",
       "3   290051   12/3/2015     Ads  Mobile            Other    Facebook   \n",
       "4   548435  11/30/2015     Ads     Web               ES      Google   \n",
       "\n",
       "       browser  conversion  test  \n",
       "0           IE           1     0  \n",
       "1           IE           0     1  \n",
       "2       Chrome           0     0  \n",
       "3  Android_App           0     1  \n",
       "4      FireFox           0     1  "
      ]
     },
     "execution_count": 2,
     "metadata": {},
     "output_type": "execute_result"
    }
   ],
   "source": [
    "test=pd.read_csv('test_table.csv')\n",
    "test.head()"
   ]
  },
  {
   "cell_type": "code",
   "execution_count": 3,
   "metadata": {},
   "outputs": [
    {
     "name": "stdout",
     "output_type": "stream",
     "text": [
      "<class 'pandas.core.frame.DataFrame'>\n",
      "RangeIndex: 453321 entries, 0 to 453320\n",
      "Data columns (total 9 columns):\n",
      "user_id             453321 non-null int64\n",
      "date                453321 non-null object\n",
      "source              453321 non-null object\n",
      "device              453321 non-null object\n",
      "browser_language    453321 non-null object\n",
      "ads_channel         181877 non-null object\n",
      "browser             453321 non-null object\n",
      "conversion          453321 non-null int64\n",
      "test                453321 non-null int64\n",
      "dtypes: int64(3), object(6)\n",
      "memory usage: 31.1+ MB\n"
     ]
    }
   ],
   "source": [
    "test.info()"
   ]
  },
  {
   "cell_type": "code",
   "execution_count": 4,
   "metadata": {},
   "outputs": [
    {
     "data": {
      "text/html": [
       "<div>\n",
       "<style scoped>\n",
       "    .dataframe tbody tr th:only-of-type {\n",
       "        vertical-align: middle;\n",
       "    }\n",
       "\n",
       "    .dataframe tbody tr th {\n",
       "        vertical-align: top;\n",
       "    }\n",
       "\n",
       "    .dataframe thead th {\n",
       "        text-align: right;\n",
       "    }\n",
       "</style>\n",
       "<table border=\"1\" class=\"dataframe\">\n",
       "  <thead>\n",
       "    <tr style=\"text-align: right;\">\n",
       "      <th></th>\n",
       "      <th>user_id</th>\n",
       "      <th>sex</th>\n",
       "      <th>age</th>\n",
       "      <th>country</th>\n",
       "    </tr>\n",
       "  </thead>\n",
       "  <tbody>\n",
       "    <tr>\n",
       "      <td>0</td>\n",
       "      <td>765821</td>\n",
       "      <td>M</td>\n",
       "      <td>20</td>\n",
       "      <td>Mexico</td>\n",
       "    </tr>\n",
       "    <tr>\n",
       "      <td>1</td>\n",
       "      <td>343561</td>\n",
       "      <td>F</td>\n",
       "      <td>27</td>\n",
       "      <td>Nicaragua</td>\n",
       "    </tr>\n",
       "    <tr>\n",
       "      <td>2</td>\n",
       "      <td>118744</td>\n",
       "      <td>M</td>\n",
       "      <td>23</td>\n",
       "      <td>Colombia</td>\n",
       "    </tr>\n",
       "    <tr>\n",
       "      <td>3</td>\n",
       "      <td>987753</td>\n",
       "      <td>F</td>\n",
       "      <td>27</td>\n",
       "      <td>Venezuela</td>\n",
       "    </tr>\n",
       "    <tr>\n",
       "      <td>4</td>\n",
       "      <td>554597</td>\n",
       "      <td>F</td>\n",
       "      <td>20</td>\n",
       "      <td>Spain</td>\n",
       "    </tr>\n",
       "  </tbody>\n",
       "</table>\n",
       "</div>"
      ],
      "text/plain": [
       "   user_id sex  age    country\n",
       "0   765821   M   20     Mexico\n",
       "1   343561   F   27  Nicaragua\n",
       "2   118744   M   23   Colombia\n",
       "3   987753   F   27  Venezuela\n",
       "4   554597   F   20      Spain"
      ]
     },
     "execution_count": 4,
     "metadata": {},
     "output_type": "execute_result"
    }
   ],
   "source": [
    "user=pd.read_csv('user_table.csv')\n",
    "user.head()"
   ]
  },
  {
   "cell_type": "code",
   "execution_count": 5,
   "metadata": {},
   "outputs": [
    {
     "name": "stdout",
     "output_type": "stream",
     "text": [
      "<class 'pandas.core.frame.DataFrame'>\n",
      "RangeIndex: 452867 entries, 0 to 452866\n",
      "Data columns (total 4 columns):\n",
      "user_id    452867 non-null int64\n",
      "sex        452867 non-null object\n",
      "age        452867 non-null int64\n",
      "country    452867 non-null object\n",
      "dtypes: int64(2), object(2)\n",
      "memory usage: 13.8+ MB\n"
     ]
    }
   ],
   "source": [
    "user.info()"
   ]
  },
  {
   "cell_type": "code",
   "execution_count": 6,
   "metadata": {},
   "outputs": [
    {
     "data": {
      "text/html": [
       "<div>\n",
       "<style scoped>\n",
       "    .dataframe tbody tr th:only-of-type {\n",
       "        vertical-align: middle;\n",
       "    }\n",
       "\n",
       "    .dataframe tbody tr th {\n",
       "        vertical-align: top;\n",
       "    }\n",
       "\n",
       "    .dataframe thead th {\n",
       "        text-align: right;\n",
       "    }\n",
       "</style>\n",
       "<table border=\"1\" class=\"dataframe\">\n",
       "  <thead>\n",
       "    <tr style=\"text-align: right;\">\n",
       "      <th></th>\n",
       "      <th>user_id</th>\n",
       "      <th>date</th>\n",
       "      <th>source</th>\n",
       "      <th>device</th>\n",
       "      <th>browser_language</th>\n",
       "      <th>ads_channel</th>\n",
       "      <th>browser</th>\n",
       "      <th>conversion</th>\n",
       "      <th>test</th>\n",
       "      <th>sex</th>\n",
       "      <th>age</th>\n",
       "      <th>country</th>\n",
       "    </tr>\n",
       "  </thead>\n",
       "  <tbody>\n",
       "    <tr>\n",
       "      <td>0</td>\n",
       "      <td>315281</td>\n",
       "      <td>12/3/2015</td>\n",
       "      <td>Direct</td>\n",
       "      <td>Web</td>\n",
       "      <td>ES</td>\n",
       "      <td>NaN</td>\n",
       "      <td>IE</td>\n",
       "      <td>1</td>\n",
       "      <td>0</td>\n",
       "      <td>M</td>\n",
       "      <td>32.0</td>\n",
       "      <td>Spain</td>\n",
       "    </tr>\n",
       "    <tr>\n",
       "      <td>1</td>\n",
       "      <td>497851</td>\n",
       "      <td>12/4/2015</td>\n",
       "      <td>Ads</td>\n",
       "      <td>Web</td>\n",
       "      <td>ES</td>\n",
       "      <td>Google</td>\n",
       "      <td>IE</td>\n",
       "      <td>0</td>\n",
       "      <td>1</td>\n",
       "      <td>M</td>\n",
       "      <td>21.0</td>\n",
       "      <td>Mexico</td>\n",
       "    </tr>\n",
       "    <tr>\n",
       "      <td>2</td>\n",
       "      <td>848402</td>\n",
       "      <td>12/4/2015</td>\n",
       "      <td>Ads</td>\n",
       "      <td>Web</td>\n",
       "      <td>ES</td>\n",
       "      <td>Facebook</td>\n",
       "      <td>Chrome</td>\n",
       "      <td>0</td>\n",
       "      <td>0</td>\n",
       "      <td>M</td>\n",
       "      <td>34.0</td>\n",
       "      <td>Spain</td>\n",
       "    </tr>\n",
       "    <tr>\n",
       "      <td>3</td>\n",
       "      <td>290051</td>\n",
       "      <td>12/3/2015</td>\n",
       "      <td>Ads</td>\n",
       "      <td>Mobile</td>\n",
       "      <td>Other</td>\n",
       "      <td>Facebook</td>\n",
       "      <td>Android_App</td>\n",
       "      <td>0</td>\n",
       "      <td>1</td>\n",
       "      <td>F</td>\n",
       "      <td>22.0</td>\n",
       "      <td>Mexico</td>\n",
       "    </tr>\n",
       "    <tr>\n",
       "      <td>4</td>\n",
       "      <td>548435</td>\n",
       "      <td>11/30/2015</td>\n",
       "      <td>Ads</td>\n",
       "      <td>Web</td>\n",
       "      <td>ES</td>\n",
       "      <td>Google</td>\n",
       "      <td>FireFox</td>\n",
       "      <td>0</td>\n",
       "      <td>1</td>\n",
       "      <td>M</td>\n",
       "      <td>19.0</td>\n",
       "      <td>Mexico</td>\n",
       "    </tr>\n",
       "  </tbody>\n",
       "</table>\n",
       "</div>"
      ],
      "text/plain": [
       "   user_id        date  source  device browser_language ads_channel  \\\n",
       "0   315281   12/3/2015  Direct     Web               ES         NaN   \n",
       "1   497851   12/4/2015     Ads     Web               ES      Google   \n",
       "2   848402   12/4/2015     Ads     Web               ES    Facebook   \n",
       "3   290051   12/3/2015     Ads  Mobile            Other    Facebook   \n",
       "4   548435  11/30/2015     Ads     Web               ES      Google   \n",
       "\n",
       "       browser  conversion  test sex   age country  \n",
       "0           IE           1     0   M  32.0   Spain  \n",
       "1           IE           0     1   M  21.0  Mexico  \n",
       "2       Chrome           0     0   M  34.0   Spain  \n",
       "3  Android_App           0     1   F  22.0  Mexico  \n",
       "4      FireFox           0     1   M  19.0  Mexico  "
      ]
     },
     "execution_count": 6,
     "metadata": {},
     "output_type": "execute_result"
    }
   ],
   "source": [
    "data = test.merge(user,how='left',on='user_id')\n",
    "data.head()"
   ]
  },
  {
   "cell_type": "code",
   "execution_count": 7,
   "metadata": {},
   "outputs": [
    {
     "name": "stdout",
     "output_type": "stream",
     "text": [
      "<class 'pandas.core.frame.DataFrame'>\n",
      "Int64Index: 453321 entries, 0 to 453320\n",
      "Data columns (total 12 columns):\n",
      "user_id             453321 non-null int64\n",
      "date                453321 non-null object\n",
      "source              453321 non-null object\n",
      "device              453321 non-null object\n",
      "browser_language    453321 non-null object\n",
      "ads_channel         181877 non-null object\n",
      "browser             453321 non-null object\n",
      "conversion          453321 non-null int64\n",
      "test                453321 non-null int64\n",
      "sex                 452867 non-null object\n",
      "age                 452867 non-null float64\n",
      "country             452867 non-null object\n",
      "dtypes: float64(1), int64(3), object(8)\n",
      "memory usage: 45.0+ MB\n"
     ]
    }
   ],
   "source": [
    "data.info()"
   ]
  },
  {
   "cell_type": "code",
   "execution_count": 8,
   "metadata": {},
   "outputs": [
    {
     "data": {
      "text/plain": [
       "90664.2"
      ]
     },
     "execution_count": 8,
     "metadata": {},
     "output_type": "execute_result"
    }
   ],
   "source": [
    "(data.groupby('date').count()['user_id']).mean()"
   ]
  },
  {
   "cell_type": "markdown",
   "metadata": {},
   "source": [
    "# Data Visualization\n",
    "The plot below shows test and control group distribution under different categories: source, device, browser_language, ads_channel, browser and sex. We could see that test and control group are evenly distributed under these categories."
   ]
  },
  {
   "cell_type": "code",
   "execution_count": 10,
   "metadata": {},
   "outputs": [
    {
     "data": {
      "text/plain": [
       "<matplotlib.axes._subplots.AxesSubplot at 0x251b53e61c8>"
      ]
     },
     "execution_count": 10,
     "metadata": {},
     "output_type": "execute_result"
    },
    {
     "data": {
      "image/png": "[encoded data removed]",
      "text/plain": [
       "<Figure size 1296x576 with 6 Axes>"
      ]
     },
     "metadata": {
      "needs_background": "light"
     },
     "output_type": "display_data"
    }
   ],
   "source": [
    "fig, ax = plt.subplots(2,3, figsize=(18, 8))\n",
    "sns.countplot(x='source', hue='test', data=data, ax=ax[0][0])\n",
    "sns.countplot(x='device', hue='test', data=data, ax=ax[0][1])\n",
    "sns.countplot(x='browser_language', hue='test', data=data, ax=ax[0][2])\n",
    "sns.countplot(x='ads_channel', hue='test', data=data, ax=ax[1][0])\n",
    "sns.countplot(x='browser', hue='test', data=data, ax=ax[1][1])\n",
    "sns.countplot(x='sex', hue='test', data=data, ax=ax[1][2])"
   ]
  },
  {
   "cell_type": "code",
   "execution_count": 11,
   "metadata": {
    "scrolled": false
   },
   "outputs": [
    {
     "data": {
      "text/plain": [
       "<matplotlib.axes._subplots.AxesSubplot at 0x251b574fcc8>"
      ]
     },
     "execution_count": 11,
     "metadata": {},
     "output_type": "execute_result"
    },
    {
     "data": {
      "image/png": "[encoded data removed]",
      "text/plain": [
       "<Figure size 1296x576 with 6 Axes>"
      ]
     },
     "metadata": {
      "needs_background": "light"
     },
     "output_type": "display_data"
    }
   ],
   "source": [
    "fig, ax = plt.subplots(2,3, figsize=(18, 8))\n",
    "sns.histplot(x='source', hue='test', data=data, stat='density', multiple='fill', shrink=.5, ax=ax[0][0])\n",
    "sns.histplot(x='device', hue='test', data=data, stat='density', multiple='fill', shrink=.4, ax=ax[0][1])\n",
    "sns.histplot(x='browser_language', hue='test', data=data, stat='density', multiple='fill', shrink=.5, ax=ax[0][2])\n",
    "sns.histplot(x='ads_channel', hue='test', data=data.dropna(subset=['ads_channel']), stat='density', multiple='fill', shrink=.8, ax=ax[1][0])\n",
    "sns.histplot(x='browser', hue='test', data=data, stat='density', multiple='fill', shrink=.8, ax=ax[1][1])\n",
    "sns.histplot(x='sex', hue='test', data=data.dropna(subset=['sex']), stat='density', multiple='fill', shrink=.4, ax=ax[1][2])"
   ]
  },
  {
   "cell_type": "markdown",
   "metadata": {},
   "source": [
    "Check what value each column has."
   ]
  },
  {
   "cell_type": "code",
   "execution_count": 12,
   "metadata": {
    "scrolled": true
   },
   "outputs": [
    {
     "name": "stdout",
     "output_type": "stream",
     "text": [
      "user_id[315281 497851 848402 ... 514870 785224 241662]\n",
      "date['12/3/2015' '12/4/2015' '11/30/2015' '12/1/2015' '12/2/2015']\n",
      "source['Direct' 'Ads' 'SEO']\n",
      "device['Web' 'Mobile']\n",
      "browser_language['ES' 'Other' 'EN']\n",
      "ads_channel[nan 'Google' 'Facebook' 'Bing' 'Yahoo' 'Other']\n",
      "browser['IE' 'Chrome' 'Android_App' 'FireFox' 'Iphone_App' 'Safari' 'Opera']\n",
      "conversion[1 0]\n",
      "test[0 1]\n",
      "sex['M' 'F' nan]\n",
      "age[32. 21. 34. 22. 19. 35. 31. 33. 37. 29. 28. 27. 39. 24. 20. 45. 23. 26.\n",
      " 18. 25. 48. 40. 46. 30. 38. 42. 36. 43. 44. 41. 47. 51. 50. nan 49. 53.\n",
      " 56. 55. 52. 59. 70. 54. 60. 57. 62. 63. 58. 61. 68. 64. 65. 67. 66.]\n",
      "country['Spain' 'Mexico' 'Venezuela' 'Bolivia' 'Colombia' 'Uruguay' 'El Salvador'\n",
      " 'Nicaragua' 'Peru' 'Costa Rica' 'Chile' 'Argentina' 'Ecuador' 'Guatemala'\n",
      " 'Honduras' 'Paraguay' 'Panama' nan]\n"
     ]
    }
   ],
   "source": [
    "for c in data.columns:\n",
    "    print(str(c)+str(data[c].unique()))"
   ]
  },
  {
   "cell_type": "markdown",
   "metadata": {},
   "source": [
    "The plot below shows test and control group distribution under different countries. We can see that sample sizes generally seem to be balanced in all countries except Argentina and Uruguay."
   ]
  },
  {
   "cell_type": "code",
   "execution_count": 13,
   "metadata": {},
   "outputs": [
    {
     "data": {
      "text/plain": [
       "<matplotlib.axes._subplots.AxesSubplot at 0x251b5929d08>"
      ]
     },
     "execution_count": 13,
     "metadata": {},
     "output_type": "execute_result"
    },
    {
     "data": {
      "image/png": "[encoded data removed]",
      "text/plain": [
       "<Figure size 1296x576 with 2 Axes>"
      ]
     },
     "metadata": {
      "needs_background": "light"
     },
     "output_type": "display_data"
    }
   ],
   "source": [
    "fig, ax = plt.subplots(2,1, figsize=(18, 8))\n",
    "sns.countplot(x='country', hue='test', data=data, ax=ax[0])\n",
    "sns.histplot(x='country', hue='test', data=data.dropna(subset=['country']), stat='density', multiple='fill', shrink=0.5, ax=ax[1])\n"
   ]
  },
  {
   "cell_type": "markdown",
   "metadata": {},
   "source": [
    "The plot below shows test and control group distribution under different ages. We can see that the age of users is mainly in 18-50. And sample sizes is generally balanced"
   ]
  },
  {
   "cell_type": "code",
   "execution_count": 33,
   "metadata": {},
   "outputs": [
    {
     "data": {
      "text/html": [
       "<div>\n",
       "<style scoped>\n",
       "    .dataframe tbody tr th:only-of-type {\n",
       "        vertical-align: middle;\n",
       "    }\n",
       "\n",
       "    .dataframe tbody tr th {\n",
       "        vertical-align: top;\n",
       "    }\n",
       "\n",
       "    .dataframe thead th {\n",
       "        text-align: right;\n",
       "    }\n",
       "</style>\n",
       "<table border=\"1\" class=\"dataframe\">\n",
       "  <thead>\n",
       "    <tr style=\"text-align: right;\">\n",
       "      <th></th>\n",
       "      <th>age</th>\n",
       "      <th>test</th>\n",
       "    </tr>\n",
       "  </thead>\n",
       "  <tbody>\n",
       "    <tr>\n",
       "      <td>0</td>\n",
       "      <td>32.0</td>\n",
       "      <td>0</td>\n",
       "    </tr>\n",
       "    <tr>\n",
       "      <td>1</td>\n",
       "      <td>21.0</td>\n",
       "      <td>1</td>\n",
       "    </tr>\n",
       "    <tr>\n",
       "      <td>2</td>\n",
       "      <td>34.0</td>\n",
       "      <td>0</td>\n",
       "    </tr>\n",
       "    <tr>\n",
       "      <td>3</td>\n",
       "      <td>22.0</td>\n",
       "      <td>1</td>\n",
       "    </tr>\n",
       "    <tr>\n",
       "      <td>4</td>\n",
       "      <td>19.0</td>\n",
       "      <td>1</td>\n",
       "    </tr>\n",
       "    <tr>\n",
       "      <td>...</td>\n",
       "      <td>...</td>\n",
       "      <td>...</td>\n",
       "    </tr>\n",
       "    <tr>\n",
       "      <td>453316</td>\n",
       "      <td>50.0</td>\n",
       "      <td>0</td>\n",
       "    </tr>\n",
       "    <tr>\n",
       "      <td>453317</td>\n",
       "      <td>20.0</td>\n",
       "      <td>1</td>\n",
       "    </tr>\n",
       "    <tr>\n",
       "      <td>453318</td>\n",
       "      <td>25.0</td>\n",
       "      <td>0</td>\n",
       "    </tr>\n",
       "    <tr>\n",
       "      <td>453319</td>\n",
       "      <td>21.0</td>\n",
       "      <td>1</td>\n",
       "    </tr>\n",
       "    <tr>\n",
       "      <td>453320</td>\n",
       "      <td>27.0</td>\n",
       "      <td>1</td>\n",
       "    </tr>\n",
       "  </tbody>\n",
       "</table>\n",
       "<p>453321 rows × 2 columns</p>\n",
       "</div>"
      ],
      "text/plain": [
       "         age  test\n",
       "0       32.0     0\n",
       "1       21.0     1\n",
       "2       34.0     0\n",
       "3       22.0     1\n",
       "4       19.0     1\n",
       "...      ...   ...\n",
       "453316  50.0     0\n",
       "453317  20.0     1\n",
       "453318  25.0     0\n",
       "453319  21.0     1\n",
       "453320  27.0     1\n",
       "\n",
       "[453321 rows x 2 columns]"
      ]
     },
     "execution_count": 33,
     "metadata": {},
     "output_type": "execute_result"
    }
   ],
   "source": [
    "# data_age = \n",
    "data[['age', 'test']]"
   ]
  },
  {
   "cell_type": "code",
   "execution_count": 14,
   "metadata": {
    "scrolled": true
   },
   "outputs": [
    {
     "data": {
      "text/plain": [
       "<matplotlib.axes._subplots.AxesSubplot at 0x251b5e15c48>"
      ]
     },
     "execution_count": 14,
     "metadata": {},
     "output_type": "execute_result"
    },
    {
     "data": {
      "image/png": "[encoded data removed]",
      "text/plain": [
       "<Figure size 1296x576 with 2 Axes>"
      ]
     },
     "metadata": {
      "needs_background": "light"
     },
     "output_type": "display_data"
    }
   ],
   "source": [
    "fig, ax = plt.subplots(2,1, figsize=(18, 8))\n",
    "sns.countplot(x='age', hue='test', data=data, ax=ax[0])\n",
    "sns.histplot(x='age', hue='test', data=data, stat='density', multiple='fill', discrete= True, ax=ax[1])\n"
   ]
  },
  {
   "cell_type": "code",
   "execution_count": 32,
   "metadata": {},
   "outputs": [
    {
     "data": {
      "text/html": [
       "<div>\n",
       "<style scoped>\n",
       "    .dataframe tbody tr th:only-of-type {\n",
       "        vertical-align: middle;\n",
       "    }\n",
       "\n",
       "    .dataframe tbody tr th {\n",
       "        vertical-align: top;\n",
       "    }\n",
       "\n",
       "    .dataframe thead th {\n",
       "        text-align: right;\n",
       "    }\n",
       "</style>\n",
       "<table border=\"1\" class=\"dataframe\">\n",
       "  <thead>\n",
       "    <tr style=\"text-align: right;\">\n",
       "      <th></th>\n",
       "      <th>user_id</th>\n",
       "      <th>date</th>\n",
       "      <th>source</th>\n",
       "      <th>device</th>\n",
       "      <th>browser_language</th>\n",
       "      <th>ads_channel</th>\n",
       "      <th>browser</th>\n",
       "      <th>conversion</th>\n",
       "      <th>test</th>\n",
       "      <th>sex</th>\n",
       "      <th>age</th>\n",
       "      <th>country</th>\n",
       "    </tr>\n",
       "  </thead>\n",
       "  <tbody>\n",
       "    <tr>\n",
       "      <td>177460</td>\n",
       "      <td>345412</td>\n",
       "      <td>12/3/2015</td>\n",
       "      <td>Direct</td>\n",
       "      <td>Web</td>\n",
       "      <td>ES</td>\n",
       "      <td>NaN</td>\n",
       "      <td>Safari</td>\n",
       "      <td>0</td>\n",
       "      <td>0</td>\n",
       "      <td>F</td>\n",
       "      <td>67.0</td>\n",
       "      <td>Spain</td>\n",
       "    </tr>\n",
       "  </tbody>\n",
       "</table>\n",
       "</div>"
      ],
      "text/plain": [
       "        user_id       date  source device browser_language ads_channel  \\\n",
       "177460   345412  12/3/2015  Direct    Web               ES         NaN   \n",
       "\n",
       "       browser  conversion  test sex   age country  \n",
       "177460  Safari           0     0   F  67.0   Spain  "
      ]
     },
     "execution_count": 32,
     "metadata": {},
     "output_type": "execute_result"
    }
   ],
   "source": [
    "data[data['age']==67]"
   ]
  },
  {
   "cell_type": "code",
   "execution_count": 16,
   "metadata": {
    "scrolled": true
   },
   "outputs": [
    {
     "data": {
      "text/plain": [
       "<matplotlib.axes._subplots.AxesSubplot at 0x251b82a4488>"
      ]
     },
     "execution_count": 16,
     "metadata": {},
     "output_type": "execute_result"
    },
    {
     "data": {
      "image/png": "[encoded data removed]",
      "text/plain": [
       "<Figure size 1296x432 with 1 Axes>"
      ]
     },
     "metadata": {
      "needs_background": "light"
     },
     "output_type": "display_data"
    }
   ],
   "source": [
    "fig, ax = plt.subplots(figsize=(18, 6))\n",
    "sns.barplot(x='country', y='conversion', hue='test', data=data, ax=ax)"
   ]
  },
  {
   "cell_type": "code",
   "execution_count": 17,
   "metadata": {},
   "outputs": [
    {
     "data": {
      "text/plain": [
       "<matplotlib.axes._subplots.AxesSubplot at 0x251bd7fe648>"
      ]
     },
     "execution_count": 17,
     "metadata": {},
     "output_type": "execute_result"
    },
    {
     "data": {
      "image/png": "[encoded data removed]",
      "text/plain": [
       "<Figure size 1296x576 with 2 Axes>"
      ]
     },
     "metadata": {
      "needs_background": "light"
     },
     "output_type": "display_data"
    }
   ],
   "source": [
    "fig, ax = plt.subplots(2,1, figsize=(18, 8))\n",
    "sns.countplot(x='date', hue='test', data=data, ax=ax[0])\n",
    "sns.histplot(x='date', hue='test', data=data.dropna(subset=['country']), stat='density', multiple='fill', shrink=0.5, ax=ax[1])\n"
   ]
  },
  {
   "cell_type": "code",
   "execution_count": 18,
   "metadata": {},
   "outputs": [
    {
     "data": {
      "text/plain": [
       "(0.04833042316066309, 0.043424713982118966)"
      ]
     },
     "execution_count": 18,
     "metadata": {},
     "output_type": "execute_result"
    }
   ],
   "source": [
    "test_data = data[data['country'] != 'Spain']\n",
    "cont_val = test_data[test_data['test'] == 0]['conversion'].values\n",
    "test_val = test_data[test_data['test'] == 1]['conversion'].values\n",
    "cont_val.mean(),test_val.mean()"
   ]
  },
  {
   "cell_type": "code",
   "execution_count": 19,
   "metadata": {
    "scrolled": true
   },
   "outputs": [
    {
     "data": {
      "text/plain": [
       "Ttest_indResult(statistic=7.3939374121344805, pvalue=1.4282994754055316e-13)"
      ]
     },
     "execution_count": 19,
     "metadata": {},
     "output_type": "execute_result"
    }
   ],
   "source": [
    "ttest_ind(cont_val, test_val, equal_var=False)"
   ]
  },
  {
   "cell_type": "markdown",
   "metadata": {},
   "source": [
    "From the mean conversion rate for test and control group and low p-value, it seems like the new version is even worse than old one. But control and test sample sizes generally seem to be balanced in all countries except Argentina and Uruguay. How much does data from these countries represent of the whole dataset?"
   ]
  },
  {
   "cell_type": "code",
   "execution_count": 20,
   "metadata": {},
   "outputs": [
    {
     "name": "stdout",
     "output_type": "stream",
     "text": [
      "11.22%\n"
     ]
    }
   ],
   "source": [
    "print(str(round((len(data[data['country'] == 'Uruguay'])+len(data[data['country'] == 'Argentina']))/len(data)*100,2))+'%')"
   ]
  },
  {
   "cell_type": "markdown",
   "metadata": {},
   "source": [
    "11% of a huge dataset can contain many conversions in one group or the other, biasing our results. Also, the dataset still contains visitors from Spain, which only applies as a control group. Based on this, observations from these 3 countries will be removed to rule out any bias that may invalidate our results. After that, we will visualize how conversions really look like for control and test groups:"
   ]
  },
  {
   "cell_type": "code",
   "execution_count": 21,
   "metadata": {},
   "outputs": [
    {
     "data": {
      "text/plain": [
       "array(['Mexico', 'Venezuela', 'Bolivia', 'Colombia', 'El Salvador',\n",
       "       'Nicaragua', 'Peru', 'Costa Rica', 'Chile', 'Ecuador', 'Guatemala',\n",
       "       'Honduras', 'Paraguay', 'Panama', nan], dtype=object)"
      ]
     },
     "execution_count": 21,
     "metadata": {},
     "output_type": "execute_result"
    }
   ],
   "source": [
    "unbias_data = data[(data['country'] != 'Uruguay') & (data['country'] != 'Argentina') & (data['country'] != 'Spain')]\n",
    "unbias_data.country.unique()"
   ]
  },
  {
   "cell_type": "code",
   "execution_count": 22,
   "metadata": {},
   "outputs": [
    {
     "name": "stderr",
     "output_type": "stream",
     "text": [
      "C:\\Anaconda3\\lib\\site-packages\\ipykernel_launcher.py:1: SettingWithCopyWarning: \n",
      "A value is trying to be set on a copy of a slice from a DataFrame.\n",
      "Try using .loc[row_indexer,col_indexer] = value instead\n",
      "\n",
      "See the caveats in the documentation: http://pandas.pydata.org/pandas-docs/stable/user_guide/indexing.html#returning-a-view-versus-a-copy\n",
      "  \"\"\"Entry point for launching an IPython kernel.\n",
      "C:\\Anaconda3\\lib\\site-packages\\pandas\\plotting\\_matplotlib\\converter.py:103: FutureWarning: Using an implicitly registered datetime converter for a matplotlib plotting method. The converter was registered by pandas on import. Future versions of pandas will require you to explicitly register matplotlib converters.\n",
      "\n",
      "To register the converters:\n",
      "\t>>> from pandas.plotting import register_matplotlib_converters\n",
      "\t>>> register_matplotlib_converters()\n",
      "  warnings.warn(msg, FutureWarning)\n"
     ]
    },
    {
     "data": {
      "image/png": "[encoded data removed]",
      "text/plain": [
       "<Figure size 432x288 with 1 Axes>"
      ]
     },
     "metadata": {
      "needs_background": "light"
     },
     "output_type": "display_data"
    }
   ],
   "source": [
    "unbias_data[\"date\"] = pd.to_datetime(unbias_data[\"date\"], infer_datetime_format=True)\n",
    "line=sns.lineplot(data=unbias_data, x='date', y='conversion', hue='test', ci=None)\n",
    "line.set_xticklabels(unbias_data.date, rotation=90)\n",
    "plt.show()"
   ]
  },
  {
   "cell_type": "code",
   "execution_count": 23,
   "metadata": {
    "scrolled": true
   },
   "outputs": [
    {
     "name": "stderr",
     "output_type": "stream",
     "text": [
      "C:\\Anaconda3\\lib\\site-packages\\ipykernel_launcher.py:1: SettingWithCopyWarning: \n",
      "A value is trying to be set on a copy of a slice from a DataFrame.\n",
      "Try using .loc[row_indexer,col_indexer] = value instead\n",
      "\n",
      "See the caveats in the documentation: http://pandas.pydata.org/pandas-docs/stable/user_guide/indexing.html#returning-a-view-versus-a-copy\n",
      "  \"\"\"Entry point for launching an IPython kernel.\n"
     ]
    },
    {
     "data": {
      "image/png": "[encoded data removed]",
      "text/plain": [
       "<Figure size 432x288 with 1 Axes>"
      ]
     },
     "metadata": {
      "needs_background": "light"
     },
     "output_type": "display_data"
    }
   ],
   "source": [
    "unbias_data[\"date\"] = pd.to_datetime(unbias_data[\"date\"], infer_datetime_format=True)\n",
    "\n",
    "# Plot our dataframe\n",
    "fig = unbias_data[unbias_data.test==1][\n",
    "    ['date', 'conversion']].groupby('date').mean().plot()\n",
    "unbias_data[unbias_data.test==0][\n",
    "    ['date', 'conversion']].groupby('date').mean().plot(ax=fig)\n",
    "plt.legend(['test','control'])\n",
    "plt.title('Conversion Rates by Date')\n",
    "plt.ylabel(\"Conversion\")\n",
    "plt.show()"
   ]
  },
  {
   "cell_type": "markdown",
   "metadata": {},
   "source": [
    "Having removed the unbalanced data and visualized the rest by date, we could see the conversion\n",
    "Having removed imbalanced observations and visualized the rest, we can notice that conversions generally move in the same direction in time, with increasing conversions for both groups starting after December 1st and fluctuating after that. Conversions for the test group on December 2nd and 4th give hope that there may be significant difference in the website's performance in bringing in conversion."
   ]
  },
  {
   "cell_type": "code",
   "execution_count": 24,
   "metadata": {},
   "outputs": [
    {
     "data": {
      "text/plain": [
       "(0.05018630713655887, 0.05042112907191501)"
      ]
     },
     "execution_count": 24,
     "metadata": {},
     "output_type": "execute_result"
    }
   ],
   "source": [
    "cont_val = unbias_data[unbias_data['test'] == 0]['conversion'].values\n",
    "test_val = unbias_data[unbias_data['test'] == 1]['conversion'].values\n",
    "cont_val.mean(),test_val.mean()"
   ]
  },
  {
   "cell_type": "code",
   "execution_count": 25,
   "metadata": {},
   "outputs": [
    {
     "data": {
      "text/plain": [
       "Ttest_indResult(statistic=-0.31809948911634467, pvalue=0.750409660579713)"
      ]
     },
     "execution_count": 25,
     "metadata": {},
     "output_type": "execute_result"
    }
   ],
   "source": [
    "ttest_ind(cont_val, test_val, equal_var=False)"
   ]
  },
  {
   "cell_type": "code",
   "execution_count": 26,
   "metadata": {
    "scrolled": true
   },
   "outputs": [
    {
     "data": {
      "text/html": [
       "<div>\n",
       "<style scoped>\n",
       "    .dataframe tbody tr th:only-of-type {\n",
       "        vertical-align: middle;\n",
       "    }\n",
       "\n",
       "    .dataframe tbody tr th {\n",
       "        vertical-align: top;\n",
       "    }\n",
       "\n",
       "    .dataframe thead th {\n",
       "        text-align: right;\n",
       "    }\n",
       "</style>\n",
       "<table border=\"1\" class=\"dataframe\">\n",
       "  <thead>\n",
       "    <tr style=\"text-align: right;\">\n",
       "      <th></th>\n",
       "      <th>Country</th>\n",
       "      <th>Control Rate</th>\n",
       "      <th>Test Rate</th>\n",
       "      <th>P-Value</th>\n",
       "    </tr>\n",
       "  </thead>\n",
       "  <tbody>\n",
       "    <tr>\n",
       "      <td>0</td>\n",
       "      <td>Mexico</td>\n",
       "      <td>0.0494946</td>\n",
       "      <td>0.0511863</td>\n",
       "      <td>0.165544</td>\n",
       "    </tr>\n",
       "    <tr>\n",
       "      <td>1</td>\n",
       "      <td>Venezuela</td>\n",
       "      <td>0.0503437</td>\n",
       "      <td>0.0489783</td>\n",
       "      <td>0.573702</td>\n",
       "    </tr>\n",
       "    <tr>\n",
       "      <td>2</td>\n",
       "      <td>Bolivia</td>\n",
       "      <td>0.0493694</td>\n",
       "      <td>0.047901</td>\n",
       "      <td>0.718885</td>\n",
       "    </tr>\n",
       "    <tr>\n",
       "      <td>3</td>\n",
       "      <td>Colombia</td>\n",
       "      <td>0.0520895</td>\n",
       "      <td>0.050571</td>\n",
       "      <td>0.423719</td>\n",
       "    </tr>\n",
       "    <tr>\n",
       "      <td>4</td>\n",
       "      <td>El Salvador</td>\n",
       "      <td>0.053554</td>\n",
       "      <td>0.0479469</td>\n",
       "      <td>0.248127</td>\n",
       "    </tr>\n",
       "    <tr>\n",
       "      <td>5</td>\n",
       "      <td>Nicaragua</td>\n",
       "      <td>0.052647</td>\n",
       "      <td>0.0541768</td>\n",
       "      <td>0.7804</td>\n",
       "    </tr>\n",
       "    <tr>\n",
       "      <td>6</td>\n",
       "      <td>Peru</td>\n",
       "      <td>0.049914</td>\n",
       "      <td>0.0506043</td>\n",
       "      <td>0.771953</td>\n",
       "    </tr>\n",
       "    <tr>\n",
       "      <td>7</td>\n",
       "      <td>Costa Rica</td>\n",
       "      <td>0.0522556</td>\n",
       "      <td>0.0547376</td>\n",
       "      <td>0.687876</td>\n",
       "    </tr>\n",
       "    <tr>\n",
       "      <td>8</td>\n",
       "      <td>Chile</td>\n",
       "      <td>0.0481072</td>\n",
       "      <td>0.051295</td>\n",
       "      <td>0.302848</td>\n",
       "    </tr>\n",
       "    <tr>\n",
       "      <td>9</td>\n",
       "      <td>Ecuador</td>\n",
       "      <td>0.0491538</td>\n",
       "      <td>0.0489884</td>\n",
       "      <td>0.961512</td>\n",
       "    </tr>\n",
       "    <tr>\n",
       "      <td>10</td>\n",
       "      <td>Guatemala</td>\n",
       "      <td>0.0506429</td>\n",
       "      <td>0.0486472</td>\n",
       "      <td>0.572107</td>\n",
       "    </tr>\n",
       "    <tr>\n",
       "      <td>11</td>\n",
       "      <td>Honduras</td>\n",
       "      <td>0.0509058</td>\n",
       "      <td>0.0475398</td>\n",
       "      <td>0.471463</td>\n",
       "    </tr>\n",
       "    <tr>\n",
       "      <td>12</td>\n",
       "      <td>Paraguay</td>\n",
       "      <td>0.0484932</td>\n",
       "      <td>0.0492291</td>\n",
       "      <td>0.883697</td>\n",
       "    </tr>\n",
       "    <tr>\n",
       "      <td>13</td>\n",
       "      <td>Panama</td>\n",
       "      <td>0.0467955</td>\n",
       "      <td>0.0493703</td>\n",
       "      <td>0.705327</td>\n",
       "    </tr>\n",
       "  </tbody>\n",
       "</table>\n",
       "</div>"
      ],
      "text/plain": [
       "        Country Control Rate  Test Rate   P-Value\n",
       "0        Mexico    0.0494946  0.0511863  0.165544\n",
       "1     Venezuela    0.0503437  0.0489783  0.573702\n",
       "2       Bolivia    0.0493694   0.047901  0.718885\n",
       "3      Colombia    0.0520895   0.050571  0.423719\n",
       "4   El Salvador     0.053554  0.0479469  0.248127\n",
       "5     Nicaragua     0.052647  0.0541768    0.7804\n",
       "6          Peru     0.049914  0.0506043  0.771953\n",
       "7    Costa Rica    0.0522556  0.0547376  0.687876\n",
       "8         Chile    0.0481072   0.051295  0.302848\n",
       "9       Ecuador    0.0491538  0.0489884  0.961512\n",
       "10    Guatemala    0.0506429  0.0486472  0.572107\n",
       "11     Honduras    0.0509058  0.0475398  0.471463\n",
       "12     Paraguay    0.0484932  0.0492291  0.883697\n",
       "13       Panama    0.0467955  0.0493703  0.705327"
      ]
     },
     "execution_count": 26,
     "metadata": {},
     "output_type": "execute_result"
    }
   ],
   "source": [
    "df=pd.DataFrame(columns=['Country', 'Control Rate', 'Test Rate', 'P-Value'])\n",
    "df['Country'] = unbias_data['country'].dropna().unique()\n",
    "for country in df['Country']:\n",
    "    cont_v = unbias_data[(unbias_data['test'] == 0) & (unbias_data['country'] == country)]['conversion'].values\n",
    "    test_v = unbias_data[(unbias_data['test'] == 1) & (unbias_data['country'] == country)]['conversion'].values\n",
    "\n",
    "    df.loc[df[df['Country'] == country].index, 'Control Rate'] = cont_v.mean()\n",
    "    df.loc[df[df['Country'] == country].index, 'Test Rate'] = test_v.mean()\n",
    "    df.loc[df[df['Country'] == country].index, 'P-Value'] = ttest_ind(cont_v, test_v, equal_var=False).pvalue\n",
    "df    "
   ]
  },
  {
   "cell_type": "markdown",
   "metadata": {},
   "source": [
    "After controlling for country, the test clearly appears non significant with p-value> 0.05 threshold.\n",
    "\n",
    "In conclusion, given the fact of bias selection, we cannot give the conclusion about the difference between control and test group. This means that as far as the results of our test, the groups show no difference, and we cannot reject the null hypothesis, so that a localized translation did not make things worse as the team concluded."
   ]
  },
  {
   "cell_type": "code",
   "execution_count": 27,
   "metadata": {},
   "outputs": [
    {
     "data": {
      "text/plain": [
       "13600144.79235344"
      ]
     },
     "execution_count": 27,
     "metadata": {},
     "output_type": "execute_result"
    }
   ],
   "source": [
    "from statsmodels.stats.power import zt_ind_solve_power\n",
    "from statsmodels.stats.proportion import proportion_effectsize as es\n",
    " \n",
    "zt_ind_solve_power(effect_size=es(prop1=cont_val.mean(), prop2=test_val.mean()), alpha=0.05, power=0.8, alternative=\"two-sided\")\n",
    "#https://stats.stackexchange.com/questions/392979/ab-test-sample-size-calculation-by-hand\n",
    "#https://github.com/Alsukhon/Spanish-Translation/blob/master/AB%20testing%20-%20Spanish%20translation.ipynb\n",
    "#def sample_power_probtest(p1, p2, power=0.8, sig=0.05):\n",
    "#     z = stats.norm.isf([sig/2]) #two-sided t test\n",
    "#     zp = -1 * stats.norm.isf([power]) \n",
    "#     d = (p1-p2)\n",
    "#     s =2*((p1+p2) /2)*(1-((p1+p2) /2))\n",
    "#     n = s * ((zp + z)**2) / (d**2)\n",
    "#     return int(round(n[0]))\n",
    "\n",
    "# p1 = unbias_data[unbias_data['test']==1]['conversion'].mean()\n",
    "# p2 = unbias_data[unbias_data['test']==0]['conversion'].mean()\n",
    "# sample_power_probtest(p1, p2)"
   ]
  },
  {
   "cell_type": "code",
   "execution_count": 28,
   "metadata": {},
   "outputs": [
    {
     "data": {
      "text/plain": [
       "350672"
      ]
     },
     "execution_count": 28,
     "metadata": {},
     "output_type": "execute_result"
    }
   ],
   "source": [
    "len(unbias_data)"
   ]
  },
  {
   "cell_type": "markdown",
   "metadata": {},
   "source": [
    "This number is much higher than the sample size we have. This says that we do need to conduct another experiment that lasts at least about 5 months to get a meaningful result out of the analysis. However, for our current website needs we will carry on with our analysis to infer what we can about this experiment."
   ]
  },
  {
   "cell_type": "code",
   "execution_count": 29,
   "metadata": {},
   "outputs": [
    {
     "name": "stdout",
     "output_type": "stream",
     "text": [
      "Max difference for control: 3.5%\n",
      "Max difference for test: 3.7%\n"
     ]
    }
   ],
   "source": [
    "test_diff = []\n",
    "ctrl_diff = []\n",
    "\n",
    "# Subtract control & test sample sizes and get the maximum difference we accepted:\n",
    "for country in df['Country']:\n",
    "    control = len(unbias_data[(unbias_data['test'] == 0) & (unbias_data['country'] == country)]) \n",
    "    test = len(unbias_data[(unbias_data['test'] == 1) & (unbias_data['country'] == country)])\n",
    "    c_diff = round(abs(test-control)/control*100,1)\n",
    "    t_diff = round(abs(test-control)/test*100,1)\n",
    "    ctrl_diff.append(c_diff)\n",
    "    test_diff.append(t_diff)\n",
    "        \n",
    "print ('Max difference for control: '+str(max(ctrl_diff))+'%')\n",
    "print ('Max difference for test: '+str(max(test_diff))+'%')"
   ]
  },
  {
   "cell_type": "markdown",
   "metadata": {},
   "source": [
    "\n",
    "# Recommendation\n",
    "Since our sample size is clearly too small to produce a significant result, we recommend the following to obtain a sample with a size that produces statistically significant result:\n",
    "\n",
    "1. Employing a randomization technique with the next experiment where the maximum difference between control and treatment groups for each country is not more than 3.7% for any of them.\n",
    "\n",
    "2. Based on the number of daily visitors, replicating the same experiment on a period of no less than 5 months to obtain a sample size that we can reliably test.\n",
    "\n",
    "3. If possible, instantly introducing local translation at a small scale where cost is feasible to prepare for the larger experiment and anticipate any systematic issues."
   ]
  },
  {
   "cell_type": "code",
   "execution_count": 30,
   "metadata": {},
   "outputs": [],
   "source": [
    "# from scipy import stats\n",
    "# t=[0,1,2,3,4]\n",
    "# n=[2,3,4,5,6]\n",
    "# df=pd.DataFrame(columns=[0,1,2,3,4],index=[[2,3,4,5,6]])\n",
    "# #mean!=0\n",
    "# for tt in t:\n",
    "#     for nn in n:\n",
    "#         pval=stats.t.sf(np.abs(tt), nn-1)*2\n",
    "#         df.loc[nn,tt]=pval\n",
    "# df\n",
    "# #mean>0\n",
    "# for tt in t:\n",
    "#     for nn in n:\n",
    "#         pval=stats.t.sf(np.abs(tt), nn-1)\n",
    "#         df.loc[nn,tt]=pval\n",
    "# df    "
   ]
  }
 ],
 "metadata": {
  "kernelspec": {
   "display_name": "Python 3",
   "language": "python",
   "name": "python3"
  },
  "language_info": {
   "codemirror_mode": {
    "name": "ipython",
    "version": 3
   },
   "file_extension": ".py",
   "mimetype": "text/x-python",
   "name": "python",
   "nbconvert_exporter": "python",
   "pygments_lexer": "ipython3",
   "version": "3.7.4"
  }
 },
 "nbformat": 4,
 "nbformat_minor": 2
}
